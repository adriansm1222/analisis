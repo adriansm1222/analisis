{
  "nbformat": 4,
  "nbformat_minor": 0,
  "metadata": {
    "colab": {
      "provenance": [],
      "authorship_tag": "ABX9TyM3VQ/ZohCNJGzkUuzTX6xv",
      "include_colab_link": true
    },
    "kernelspec": {
      "name": "python3",
      "display_name": "Python 3"
    },
    "language_info": {
      "name": "python"
    }
  },
  "cells": [
    {
      "cell_type": "markdown",
      "metadata": {
        "id": "view-in-github",
        "colab_type": "text"
      },
      "source": [
        "<a href=\"https://colab.research.google.com/github/adriansm1222/analisis/blob/main/Tarea1.ipynb\" target=\"_parent\"><img src=\"https://colab.research.google.com/assets/colab-badge.svg\" alt=\"Open In Colab\"/></a>"
      ]
    },
    {
      "cell_type": "code",
      "execution_count": null,
      "metadata": {
        "colab": {
          "base_uri": "https://localhost:8080/"
        },
        "id": "9OqcFyDjfRA7",
        "outputId": "12364e11-16ca-4a91-96d5-22bdd674b178"
      },
      "outputs": [
        {
          "output_type": "stream",
          "name": "stdout",
          "text": [
            "Ejercicio Bisiesto\n",
            "Ingrese el anio: 2016\n",
            "El anio es bisiesto\n"
          ]
        }
      ],
      "source": [
        "print(\"Ejercicio Bisiesto\")\n",
        "anio = int(input(\"Ingrese el anio: \"))\n",
        "if(anio % 400 == 0) or (anio % 4 == 0) and (anio % 100 != 0):\n",
        "  print(\"El anio es bisiesto\")\n",
        "else:\n",
        "  print(\"El anio no es bisiesto\")"
      ]
    },
    {
      "cell_type": "code",
      "source": [
        "switcher={1: \"Enero\", 2: \"Febrero\", 3: \"Marzo\", 4: \"Abril\", 5: \"Mayo\", 6:\"Junio\", 7: \"Julio\", 8: \"Agosto\", 9: \"Setiembre\", 10: \"Octubre\", 11: \"Noviembre\", 12: \"Diciembre\"}\n",
        "argument=int(input(\"Ingrese un número: \"))\n",
        "nombreDeMes=switcher.get(argument, \"Mes invalido\")\n",
        "print (nombreDeMes)"
      ],
      "metadata": {
        "colab": {
          "base_uri": "https://localhost:8080/"
        },
        "id": "18Nuvnwpk6-Q",
        "outputId": "46fc8912-459c-46f0-eb6b-01c778f006f6"
      },
      "execution_count": null,
      "outputs": [
        {
          "output_type": "stream",
          "name": "stdout",
          "text": [
            "Ingrese un número:5\n",
            "Mayo\n"
          ]
        }
      ]
    },
    {
      "cell_type": "code",
      "source": [
        "C=-1\n",
        "I=0\n",
        "M=0\n",
        "while (C<0) or (I<=0) or (I>=100) or (M<=0):\n",
        "  print(\"Introduce el capital, el interes, y el tiempo apropiados\")\n",
        "  C=int(input(\"Capital: \"))\n",
        "  I=int(input(\"Interes: \"))\n",
        "  M=int(input(\"Tiempo en Annios: \"))\n",
        "for i in range(M):\n",
        "  C=C*(1+ I/100)\n",
        "  print(\"Monto\", C, \"Colones\")"
      ],
      "metadata": {
        "colab": {
          "base_uri": "https://localhost:8080/"
        },
        "id": "MBntMqBxmx9n",
        "outputId": "a80591cc-8809-4e79-f46e-f952eda259ad"
      },
      "execution_count": null,
      "outputs": [
        {
          "output_type": "stream",
          "name": "stdout",
          "text": [
            "Introduce el capital, el interes, y el tiempo apropiados\n",
            "Capital: 2500\n",
            "Interes: 250\n",
            "Tiempo en Annios: 5\n",
            "Introduce el capital, el interes, y el tiempo apropiados\n",
            "Capital: 2500\n",
            "Interes: 13\n",
            "Tiempo en Annios: 2\n",
            "Monto 2824.9999999999995 Colones\n",
            "Monto 3192.249999999999 Colones\n"
          ]
        }
      ]
    },
    {
      "cell_type": "code",
      "source": [
        "print(\"Digite un numero\")\n",
        "numero=int(input(\"Numero: \"))\n",
        "\n",
        "while numero > 0:\n",
        "  Suma=0\n",
        "  for i in range(1, numero+1):\n",
        "    if (numero % i==0):\n",
        "      Suma = Suma + i\n",
        "  print (Suma)\n",
        "  numero = int(input(\"Numero: \"))"
      ],
      "metadata": {
        "colab": {
          "base_uri": "https://localhost:8080/"
        },
        "id": "wNiy6rN5pAZD",
        "outputId": "9340e6fb-758a-4b94-a186-b3e7742d0087"
      },
      "execution_count": null,
      "outputs": [
        {
          "output_type": "stream",
          "name": "stdout",
          "text": [
            "Digite un numero\n",
            "Numero: 10\n",
            "18\n"
          ]
        }
      ]
    },
    {
      "cell_type": "code",
      "source": [
        "temperaturas = [35, 34, 33, 32, 27, 25, 21]\n",
        "total = 0\n",
        "cant = len(temperaturas)\n",
        "for i in range(cant):\n",
        "  total += temperaturas[i]\n",
        "\n",
        "media = total/cant\n",
        "media"
      ],
      "metadata": {
        "colab": {
          "base_uri": "https://localhost:8080/"
        },
        "id": "8t5-r4_UqHPT",
        "outputId": "65f5f329-f50a-41b1-e0c0-22f99a4ae05b"
      },
      "execution_count": null,
      "outputs": [
        {
          "output_type": "execute_result",
          "data": {
            "text/plain": [
              "29.571428571428573"
            ]
          },
          "metadata": {},
          "execution_count": 9
        }
      ]
    }
  ]
}